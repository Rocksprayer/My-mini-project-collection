{
 "cells": [
  {
   "cell_type": "code",
   "execution_count": 1,
   "id": "89f14317",
   "metadata": {},
   "outputs": [],
   "source": [
    "import os\n",
    "import zipfile\n",
    "import urllib.request\n",
    "\n",
    "data_dir=\"./data\"\n"
   ]
  },
  {
   "cell_type": "markdown",
   "id": "6df6f9ab",
   "metadata": {},
   "source": [
    "# download "
   ]
  },
  {
   "cell_type": "code",
   "execution_count": 2,
   "id": "07564814",
   "metadata": {},
   "outputs": [],
   "source": [
    "url=\"https://download.pytorch.org/tutorial/hymenoptera_data.zip\"\n",
    "save_path=os.path.join(data_dir, \"hymenoptera_data\")\n",
    "\n",
    "if not os.path.exists(save_path):\n",
    "    urllib.request.urlretrieve(url,save_path)\n",
    "    \n",
    "    zip = zipfile.ZipFile(save_path)\n",
    "    zip.extractall(\"./data\")\n",
    "    zip.close()\n",
    "    os.remove(save_path )"
   ]
  },
  {
   "cell_type": "markdown",
   "id": "0d26aef8",
   "metadata": {},
   "source": [
    "\n",
    "# data loader (transform,load image from path)"
   ]
  },
  {
   "cell_type": "code",
   "execution_count": null,
   "id": "de9ecb2b",
   "metadata": {},
   "outputs": [],
   "source": []
  }
 ],
 "metadata": {
  "kernelspec": {
   "display_name": "Python 3 (ipykernel)",
   "language": "python",
   "name": "python3"
  },
  "language_info": {
   "codemirror_mode": {
    "name": "ipython",
    "version": 3
   },
   "file_extension": ".py",
   "mimetype": "text/x-python",
   "name": "python",
   "nbconvert_exporter": "python",
   "pygments_lexer": "ipython3",
   "version": "3.9.7"
  }
 },
 "nbformat": 4,
 "nbformat_minor": 5
}
