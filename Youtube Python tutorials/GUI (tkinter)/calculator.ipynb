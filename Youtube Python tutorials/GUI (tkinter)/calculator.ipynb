{
 "cells": [
  {
   "cell_type": "code",
   "execution_count": 3,
   "id": "7cc62376",
   "metadata": {},
   "outputs": [],
   "source": [
    "import tkinter\n",
    "from tkinter import *"
   ]
  },
  {
   "cell_type": "code",
   "execution_count": 48,
   "id": "254ce711",
   "metadata": {},
   "outputs": [],
   "source": [
    "root=Tk()\n",
    "root.title(\"calculator\")\n",
    "\n",
    "def  click(number):\n",
    "    entry_1.insert(END,number)\n",
    "    \n",
    "    \n",
    "\n",
    "def clear():\n",
    "    entry_1.delete(0,\"end\")\n",
    "def equal():\n",
    "    string=entry_1.get()\n",
    "    numbers=string.split(\"+\")\n",
    "    result=sum(int(i) for i in numbers)\n",
    "    entry_1.delete(0,\"end\")\n",
    "    entry_1.insert(END,result)\n",
    "  \n",
    "entry_1=Entry(root,width='35',borderwidth=5)\n",
    "entry_1.grid(row=0, column=0,columnspan=3,padx=10,pady=10)\n",
    "\n",
    "button_1=Button(root,text=\"1\",padx=40,pady=20,command=lambda: click(1))\n",
    "button_2=Button(root,text=\"2\",padx=40,pady=20,command=lambda: click(2))\n",
    "button_3=Button(root,text=\"3\",padx=40,pady=20,command=lambda: click(3))\n",
    "button_4=Button(root,text=\"4\",padx=40,pady=20,command=lambda: click(4))\n",
    "button_5=Button(root,text=\"5\",padx=40,pady=20,command=lambda: click(5))\n",
    "button_6=Button(root,text=\"6\",padx=40,pady=20,command=lambda: click(6))\n",
    "button_7=Button(root,text=\"7\",padx=40,pady=20,command=lambda: click(7))\n",
    "button_8=Button(root,text=\"8\",padx=40,pady=20,command=lambda: click(8))\n",
    "button_9=Button(root,text=\"9\",padx=40,pady=20,command=lambda: click(9))\n",
    "button_0=Button(root,text=\"0\",padx=40,pady=20,command=lambda: click(0))\n",
    "button_add=Button(root,text=\"+\",padx=40,pady=20,command=lambda: click('+'))\n",
    "button_clear=Button(root,text=\"clear\",padx=80,pady=20,command=clear)\n",
    "button_equal=Button(root,text=\"=\",padx=80,pady=20,command=equal)\n",
    "\n",
    "button_1.grid(row=3,column=0)\n",
    "button_2.grid(row=3,column=1)\n",
    "button_3.grid(row=3,column=2)\n",
    "\n",
    "button_4.grid(row=2,column=0)\n",
    "button_5.grid(row=2,column=1)\n",
    "button_6.grid(row=2,column=2)\n",
    "\n",
    "button_7.grid(row=1,column=0)\n",
    "button_8.grid(row=1,column=1)\n",
    "button_9.grid(row=1,column=2)\n",
    "\n",
    "button_0.grid(row=4,column=0)\n",
    "\n",
    "button_add.grid(row=5,column=0)\n",
    "button_clear.grid(row=4,column=1,columnspan=2)\n",
    "button_equal.grid(row=5,column=1,columnspan=2)\n",
    "root.mainloop()"
   ]
  },
  {
   "cell_type": "code",
   "execution_count": 13,
   "id": "f5f6e5dd",
   "metadata": {},
   "outputs": [],
   "source": []
  },
  {
   "cell_type": "code",
   "execution_count": null,
   "id": "0c8146a0",
   "metadata": {},
   "outputs": [],
   "source": []
  }
 ],
 "metadata": {
  "kernelspec": {
   "display_name": "Python 3 (ipykernel)",
   "language": "python",
   "name": "python3"
  },
  "language_info": {
   "codemirror_mode": {
    "name": "ipython",
    "version": 3
   },
   "file_extension": ".py",
   "mimetype": "text/x-python",
   "name": "python",
   "nbconvert_exporter": "python",
   "pygments_lexer": "ipython3",
   "version": "3.8.5"
  }
 },
 "nbformat": 4,
 "nbformat_minor": 5
}
