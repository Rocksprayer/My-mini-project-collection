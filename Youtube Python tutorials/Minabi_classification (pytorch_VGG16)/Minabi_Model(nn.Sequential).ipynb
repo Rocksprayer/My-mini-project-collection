{
 "cells": [
  {
   "cell_type": "code",
   "execution_count": 1,
   "id": "417fe9c1",
   "metadata": {},
   "outputs": [],
   "source": [
    "import torch\n",
    "import torch.nn as nn\n"
   ]
  },
  {
   "cell_type": "code",
   "execution_count": 21,
   "id": "07bdf5d4",
   "metadata": {},
   "outputs": [],
   "source": [
    "net = nn.Sequential()"
   ]
  },
  {
   "cell_type": "code",
   "execution_count": 22,
   "id": "ef156926",
   "metadata": {},
   "outputs": [],
   "source": [
    "class Flatten(nn.Module):\n",
    "    def forward(self,x):\n",
    "        size        = x.size()[1:]\n",
    "        num_feature = 1\n",
    "        for s in size:\n",
    "            num_feature *= s\n",
    "        return x.view(-1,num_feature)  \n"
   ]
  },
  {
   "cell_type": "code",
   "execution_count": 23,
   "id": "8076ca94",
   "metadata": {},
   "outputs": [],
   "source": [
    "net.add_module(\"Conv1\", nn.Conv2d(1,6,3))\n",
    "net.add_module(\"ReLU\" , nn.ReLU())\n",
    "net.add_module(\"Maxpooling1\" , nn.MaxPool2d(2))\n",
    "\n",
    "net.add_module(\"Conv2\", nn.Conv2d(6,16,3))\n",
    "net.add_module(\"ReLU2\" , nn.ReLU())\n",
    "net.add_module(\"Maxpooling2\" , nn.MaxPool2d(2))\n",
    "\n",
    "net.add_module(\"Flatten\", Flatten())\n",
    "net.add_module(\"Fc1\",nn.Linear(6*16*6,120))\n",
    "net.add_module(\"Fc2\",nn.Linear(120,84))\n",
    "net.add_module(\"Fc3\",nn.Linear(84,10))\n"
   ]
  },
  {
   "cell_type": "code",
   "execution_count": 30,
   "id": "60fd8768",
   "metadata": {
    "scrolled": true
   },
   "outputs": [
    {
     "name": "stdout",
     "output_type": "stream",
     "text": [
      "Sequential(\n",
      "  (Conv1): Conv2d(1, 6, kernel_size=(3, 3), stride=(1, 1))\n",
      "  (ReLU): ReLU()\n",
      "  (Maxpooling1): MaxPool2d(kernel_size=2, stride=2, padding=0, dilation=1, ceil_mode=False)\n",
      "  (Conv2): Conv2d(6, 16, kernel_size=(3, 3), stride=(1, 1))\n",
      "  (ReLU2): ReLU()\n",
      "  (Maxpooling2): MaxPool2d(kernel_size=2, stride=2, padding=0, dilation=1, ceil_mode=False)\n",
      "  (Flatten): Flatten()\n",
      "  (Fc1): Linear(in_features=576, out_features=120, bias=True)\n",
      "  (Fc2): Linear(in_features=120, out_features=84, bias=True)\n",
      "  (Fc3): Linear(in_features=84, out_features=10, bias=True)\n",
      ")\n"
     ]
    }
   ],
   "source": [
    "print(net)"
   ]
  },
  {
   "cell_type": "code",
   "execution_count": 31,
   "id": "1e9a69f3",
   "metadata": {},
   "outputs": [],
   "source": [
    "net_input = torch.rand(1,1,32,32)\n",
    "net_output = net(net_input)"
   ]
  }
 ],
 "metadata": {
  "kernelspec": {
   "display_name": "Python 3 (ipykernel)",
   "language": "python",
   "name": "python3"
  },
  "language_info": {
   "codemirror_mode": {
    "name": "ipython",
    "version": 3
   },
   "file_extension": ".py",
   "mimetype": "text/x-python",
   "name": "python",
   "nbconvert_exporter": "python",
   "pygments_lexer": "ipython3",
   "version": "3.9.7"
  }
 },
 "nbformat": 4,
 "nbformat_minor": 5
}
