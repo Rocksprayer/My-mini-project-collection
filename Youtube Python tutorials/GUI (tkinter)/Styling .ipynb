{
 "cells": [
  {
   "cell_type": "markdown",
   "id": "4810bbf8",
   "metadata": {},
   "source": [
    "# styling "
   ]
  },
  {
   "cell_type": "code",
   "execution_count": 7,
   "id": "2e5f3fd5",
   "metadata": {},
   "outputs": [],
   "source": [
    "import tkinter as tk\n",
    "from tkinter import *\n",
    "from tkinter import ttk\n",
    "\n",
    "LARGE_FONT = (\"Verdana\", 12)"
   ]
  },
  {
   "cell_type": "code",
   "execution_count": 55,
   "id": "ac997121",
   "metadata": {},
   "outputs": [],
   "source": [
    "class myapp(Tk):\n",
    "    def __init__(self,*arg,**kwargs):\n",
    "        Tk.__init__(self)\n",
    "        container = Frame(self)\n",
    "        Tk.wm_title(self,\"welcome to sumonerrift\")\n",
    "                \n",
    "        self.frames = {}\n",
    "        \n",
    "        for F in (StartPage ,PageOne ,PageTwo):\n",
    "        \n",
    "            frame = F(self,container) #object frame class Startpage \n",
    "\n",
    "            self.frames[F] = frame  #dictionary[key]=value\n",
    "\n",
    "            frame.grid(row = 0, column = 0, sticky =\"nwes\")\n",
    "            #frame.pack(side = \"top\", fill = \"both\", expand = True)\n",
    "        \n",
    "        self.show_frame(StartPage)\n",
    "    \n",
    "    def show_frame(self,Page):\n",
    "        frame = self.frames[Page]\n",
    "        frame.tkraise()\n",
    "\n",
    "def test_command():\n",
    "    print(\"seems good\")\n",
    "def lambda_test(parameter):\n",
    "    print(parameter)\n",
    "    \n"
   ]
  },
  {
   "cell_type": "code",
   "execution_count": 34,
   "id": "4fb8b5e8",
   "metadata": {},
   "outputs": [],
   "source": [
    "class StartPage(Frame):\n",
    "    def __init__(self,app,controller):\n",
    "        Frame.__init__(self,app)\n",
    "        label = tk.Label(self,text=\"Start Page\",font = LARGE_FONT)\n",
    "        label.pack(pady = 10 ,padx = 10)\n",
    "\n",
    "        button1= tk.Button(self,text = \"Visit Page 1\",\n",
    "                           command= lambda: app.show_frame(PageOne))\n",
    "        button1.pack()\n",
    "        button2= tk.Button(self,text = \"Visit Page 2\",\n",
    "                           command= lambda: app.show_frame(PageTwo))\n",
    "        button2.pack()\n",
    "        \n",
    "\n",
    "class PageOne(Frame):\n",
    "    def __init__(self, app, controller):\n",
    "        tk.Frame.__init__(self, app)\n",
    "        label = tk.Label(self,text=\"Page One\",font = LARGE_FONT)\n",
    "        label.pack(pady = 10 ,padx = 10)\n",
    "\n",
    "        button1= tk.Button(self,text = \"Visit Page 2\",\n",
    "                           command= lambda: app.show_frame(PageTwo))\n",
    "        \n",
    "        button1.pack()\n",
    "        \n",
    "        button2= tk.Button(self,text = \"Back to Start page\",\n",
    "                           command= lambda: app.show_frame(StartPage))\n",
    "        button2.pack()\n",
    "\n",
    "class PageTwo(Frame):\n",
    "    def __init__(self, app, controller):\n",
    "        tk.Frame.__init__(self, app)\n",
    "        label = tk.Label(self,text=\"Page Two\",font = LARGE_FONT)\n",
    "        label.pack(pady = 10 ,padx = 10)\n",
    "\n",
    "        button1= tk.Button(self,text = \"Back to Start Page\",\n",
    "                           command= lambda: app.show_frame(StartPage))\n",
    "        button1.pack()\n",
    "        \n",
    "        button2= tk.Button(self,text = \"Visit Page 1\",\n",
    "                           command= lambda: app.show_frame(PageOne))\n",
    "        button2.pack()\n"
   ]
  },
  {
   "cell_type": "code",
   "execution_count": 56,
   "id": "00a9c025",
   "metadata": {},
   "outputs": [],
   "source": [
    "testapp = myapp()\n",
    "testapp.mainloop()"
   ]
  },
  {
   "cell_type": "markdown",
   "id": "8b537b10",
   "metadata": {},
   "source": [
    "# ttk instead of tk "
   ]
  },
  {
   "cell_type": "markdown",
   "id": "d91408e2",
   "metadata": {},
   "source": [
    "## the button styling"
   ]
  },
  {
   "cell_type": "code",
   "execution_count": 48,
   "id": "cfaaa3e5",
   "metadata": {},
   "outputs": [],
   "source": [
    "class StartPage(Frame):\n",
    "    def __init__(self,app,controller):\n",
    "        Frame.__init__(self,app)\n",
    "        label = ttk.Label(self,text=\"Start Page\",font = LARGE_FONT)\n",
    "        label.pack(pady = 10 ,padx = 10)\n",
    "\n",
    "        button1= ttk.Button(self,text = \"Visit Page 1\",\n",
    "                           command= lambda: app.show_frame(PageOne))\n",
    "        button1.pack()\n",
    "        button2= ttk.Button(self,text = \"Visit Page 2\",\n",
    "                           command= lambda: app.show_frame(PageTwo))\n",
    "        button2.pack()\n",
    "        \n",
    "\n",
    "class PageOne(Frame):\n",
    "    def __init__(self, app, controller):\n",
    "        tk.Frame.__init__(self, app)\n",
    "        label = ttk.Label(self,text=\"Page One\",font = LARGE_FONT)\n",
    "        label.pack(pady = 10 ,padx = 10)\n",
    "\n",
    "        button1= ttk.Button(self,text = \"Visit Page 2\",\n",
    "                           command= lambda: app.show_frame(PageTwo))\n",
    "        button1.pack()\n",
    "        \n",
    "        button2= ttk.Button(self,text = \"Back to Start page\",\n",
    "                           command= lambda: app.show_frame(StartPage))\n",
    "        button2.pack()\n",
    "\n",
    "class PageTwo(Frame):\n",
    "    def __init__(self, app, controller):\n",
    "        tk.Frame.__init__(self, app)\n",
    "        label = ttk.Label(self,text=\"Page Two\",font = LARGE_FONT)\n",
    "        label.pack(pady = 10 ,padx = 10)\n",
    "\n",
    "        button1= ttk.Button(self,text = \"Back to Start Page\",\n",
    "                           command= lambda: app.show_frame(StartPage))\n",
    "        button1.pack()\n",
    "        \n",
    "        button2= ttk.Button(self,text = \"Visit Page 1\",\n",
    "                           command= lambda: app.show_frame(PageOne))\n",
    "        button2.pack()\n"
   ]
  },
  {
   "cell_type": "markdown",
   "id": "316b2146",
   "metadata": {},
   "source": [
    "# add matplotlib graph"
   ]
  },
  {
   "cell_type": "code",
   "execution_count": 58,
   "id": "b806071c",
   "metadata": {},
   "outputs": [],
   "source": [
    "import matplotlib\n",
    "from matplotlib import *"
   ]
  },
  {
   "cell_type": "code",
   "execution_count": 59,
   "id": "6c1114a8",
   "metadata": {},
   "outputs": [],
   "source": [
    "matplotlib.use(\"TkAgg\")"
   ]
  }
 ],
 "metadata": {
  "kernelspec": {
   "display_name": "Python 3 (ipykernel)",
   "language": "python",
   "name": "python3"
  },
  "language_info": {
   "codemirror_mode": {
    "name": "ipython",
    "version": 3
   },
   "file_extension": ".py",
   "mimetype": "text/x-python",
   "name": "python",
   "nbconvert_exporter": "python",
   "pygments_lexer": "ipython3",
   "version": "3.8.11"
  }
 },
 "nbformat": 4,
 "nbformat_minor": 5
}
