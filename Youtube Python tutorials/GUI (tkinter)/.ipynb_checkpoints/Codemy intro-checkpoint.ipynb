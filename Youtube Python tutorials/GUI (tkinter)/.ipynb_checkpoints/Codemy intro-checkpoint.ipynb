{
 "cells": [
  {
   "cell_type": "code",
   "execution_count": 1,
   "id": "fd0ec405",
   "metadata": {},
   "outputs": [],
   "source": [
    "import tkinter\n",
    "from tkinter import *"
   ]
  },
  {
   "cell_type": "code",
   "execution_count": 2,
   "id": "5503b769",
   "metadata": {},
   "outputs": [],
   "source": [
    "root = Tk()\n",
    "\n",
    "def Click():\n",
    "    label1 = Label(root, text =f\" xin chao {entry.get()}\")\n",
    "    label1.grid(row=1,column=0)\n",
    "\n",
    "label2 = Label(root, text ='Label 2')\n",
    "button = Button(root,text ='click',padx=20,pady=20,command=Click,bg='blue')\n",
    "entry = Entry(root)\n",
    "entry.insert(1,\"Enter Your Name:\")\n",
    "\n",
    "label2.grid(row=2,column=0)\n",
    "button.grid(row=0,column=0)\n",
    "entry.grid(row=0,column=1)\n",
    "root.mainloop()"
   ]
  }
 ],
 "metadata": {
  "kernelspec": {
   "display_name": "Python 3 (ipykernel)",
   "language": "python",
   "name": "python3"
  },
  "language_info": {
   "codemirror_mode": {
    "name": "ipython",
    "version": 3
   },
   "file_extension": ".py",
   "mimetype": "text/x-python",
   "name": "python",
   "nbconvert_exporter": "python",
   "pygments_lexer": "ipython3",
   "version": "3.8.11"
  }
 },
 "nbformat": 4,
 "nbformat_minor": 5
}
