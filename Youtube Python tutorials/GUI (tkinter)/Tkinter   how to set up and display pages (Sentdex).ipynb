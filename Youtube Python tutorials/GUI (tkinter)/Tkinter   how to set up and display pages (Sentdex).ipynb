{
 "cells": [
  {
   "cell_type": "markdown",
   "id": "d286c597",
   "metadata": {},
   "source": [
    "# how to display pages"
   ]
  },
  {
   "cell_type": "code",
   "execution_count": 12,
   "id": "d8d9dc88",
   "metadata": {},
   "outputs": [],
   "source": [
    "import tkinter as tk\n",
    "from tkinter import *\n",
    "LARGE_FONT = (\"Verdana\", 12)"
   ]
  },
  {
   "cell_type": "code",
   "execution_count": 14,
   "id": "103c037e",
   "metadata": {},
   "outputs": [],
   "source": [
    "class myapp(Tk):\n",
    "    def __init__(self,*arg,**kwargs):\n",
    "        Tk.__init__(self)\n",
    "        container = Frame(self)\n",
    "        \n",
    "        \n",
    "        \n",
    "        container.grid_rowconfigure(0,weight = 1)\n",
    "        container.grid_columnconfigure(0,weight = 1)\n",
    "        \n",
    "        self.frames = {}\n",
    "        \n",
    "        frame = StartPage(self,container) #object frame class Startpage \n",
    "        \n",
    "        self.frames[StartPage] = frame  #dictionary[key]=value\n",
    "        \n",
    "        frame.grid(row = 0, column = 0, sticky =\"w\")\n",
    "        #frame.pack(side = \"top\", fill = \"both\", expand = True)\n",
    "        \n",
    "        self.show_frame(StartPage)\n",
    "    \n",
    "    def show_frame(self,Page):\n",
    "        frame = self.frames[Page]\n",
    "        frame.tkraise()\n",
    "class StartPage(Frame):\n",
    "    def __init__(self,app,controller):\n",
    "        Frame.__init__(self,app)\n",
    "        label = tk.Label(self,text=\"Start Page\",font = LARGE_FONT)\n",
    "        label.pack(pady = 10 ,padx = 10)\n"
   ]
  },
  {
   "cell_type": "code",
   "execution_count": 63,
   "id": "c193e1ae",
   "metadata": {},
   "outputs": [],
   "source": [
    "testapp = myapp()\n",
    "testapp.mainloop()"
   ]
  },
  {
   "cell_type": "markdown",
   "id": "f960323e",
   "metadata": {},
   "source": [
    "# add pages and navigate (add button for navigation)"
   ]
  },
  {
   "cell_type": "markdown",
   "id": "5690c2ee",
   "metadata": {},
   "source": [
    "# part 1 (add button for navigation)"
   ]
  },
  {
   "cell_type": "code",
   "execution_count": 71,
   "id": "ff743e8f",
   "metadata": {},
   "outputs": [],
   "source": [
    "class myapp(Tk):\n",
    "    def __init__(self,*arg,**kwargs):\n",
    "        Tk.__init__(self)\n",
    "        container = Frame(self)\n",
    "        \n",
    "        \n",
    "        \n",
    "        container.grid_rowconfigure(0,weight = 1)\n",
    "        container.grid_columnconfigure(0,weight = 1)\n",
    "        \n",
    "        self.frames = {}\n",
    "        \n",
    "        frame = StartPage(self,container) #object frame class Startpage \n",
    "        \n",
    "        self.frames[StartPage] = frame  #dictionary[key]=value\n",
    "        \n",
    "        frame.grid(row = 0, column = 0, sticky =\"w\")\n",
    "        #frame.pack(side = \"top\", fill = \"both\", expand = True)\n",
    "        \n",
    "        self.show_frame(StartPage)\n",
    "    \n",
    "    def show_frame(self,Page):\n",
    "        frame = self.frames[Page]\n",
    "        frame.tkraise()\n",
    "\n",
    "def test_command():\n",
    "    print(\"seems good\")\n",
    "def lambda_test(parameter):\n",
    "    print(parameter)\n",
    "    \n",
    "class StartPage(Frame):\n",
    "    def __init__(self,app,controller):\n",
    "        Frame.__init__(self,app)\n",
    "        label = tk.Label(self,text=\"Start Page\",font = LARGE_FONT)\n",
    "        label.pack(pady = 10 ,padx = 10)\n",
    "        \n",
    "        #button1= tk.Button(self,text = \"Visit Page 1\",command=test_command)\n",
    "        button1= tk.Button(self,text = \"Visit Page 1\",\n",
    "                           command= lambda: lambda_test(\"lamb sauce\"))\n",
    "        button1.pack()\n"
   ]
  },
  {
   "cell_type": "code",
   "execution_count": 72,
   "id": "b7e1a34f",
   "metadata": {},
   "outputs": [
    {
     "name": "stdout",
     "output_type": "stream",
     "text": [
      "lamb sauce\n"
     ]
    }
   ],
   "source": [
    "testapp = myapp()\n",
    "testapp.mainloop()"
   ]
  },
  {
   "cell_type": "markdown",
   "id": "3bcfc5d1",
   "metadata": {},
   "source": [
    "# part 2 add pages "
   ]
  },
  {
   "cell_type": "code",
   "execution_count": 15,
   "id": "663918a1",
   "metadata": {},
   "outputs": [],
   "source": [
    "class myapp(Tk):\n",
    "    def __init__(self,*arg,**kwargs):\n",
    "        Tk.__init__(self)\n",
    "        container = Frame(self)\n",
    "        \n",
    "        \n",
    "        \n",
    "        container.grid_rowconfigure(0,weight = 1)\n",
    "        container.grid_columnconfigure(0,weight = 1)\n",
    "        \n",
    "        self.frames = {}\n",
    "        \n",
    "        for F in (StartPage ,PageOne ,PageTwo):\n",
    "        \n",
    "            frame = F(self,container) #object frame class Startpage \n",
    "\n",
    "            self.frames[F] = frame  #dictionary[key]=value\n",
    "\n",
    "            frame.grid(row = 0, column = 0, sticky =\"nsew\")\n",
    "            #frame.pack(side = \"top\", fill = \"both\", expand = True)\n",
    "        \n",
    "        self.show_frame(StartPage)\n",
    "    \n",
    "    def show_frame(self,Page):\n",
    "        frame = self.frames[Page]\n",
    "        frame.tkraise()\n",
    "\n",
    "def test_command():\n",
    "    print(\"seems good\")\n",
    "def lambda_test(parameter):\n",
    "    print(parameter)\n",
    "    \n",
    "class StartPage(Frame):\n",
    "    def __init__(self,app,controller):\n",
    "        Frame.__init__(self,app)\n",
    "        label = tk.Label(self,text=\"Start Page\",font = LARGE_FONT)\n",
    "        label.pack(pady = 10 ,padx = 10)\n",
    "\n",
    "        button1= tk.Button(self,text = \"Visit Page 1\",\n",
    "                           command= lambda: app.show_frame(PageOne))\n",
    "        button1.pack()\n",
    "        button2= tk.Button(self,text = \"Visit Page 2\",\n",
    "                           command= lambda: app.show_frame(PageTwo))\n",
    "        button2.pack()\n",
    "        \n",
    "\n",
    "class PageOne(Frame):\n",
    "    def __init__(self, app, controller):\n",
    "        tk.Frame.__init__(self, app)\n",
    "        label = tk.Label(self,text=\"Page One\",font = LARGE_FONT)\n",
    "        label.pack(pady = 10 ,padx = 10)\n",
    "\n",
    "        button1= tk.Button(self,text = \"Visit Page 2\",\n",
    "                           command= lambda: app.show_frame(PageTwo))\n",
    "        button1.pack()\n",
    "        \n",
    "        button2= tk.Button(self,text = \"Back to Start page\",\n",
    "                           command= lambda: app.show_frame(StartPage))\n",
    "        button2.pack()\n",
    "\n",
    "class PageTwo(Frame):\n",
    "    def __init__(self, app, controller):\n",
    "        tk.Frame.__init__(self, app)\n",
    "        label = tk.Label(self,text=\"Page Two\",font = LARGE_FONT)\n",
    "        label.pack(pady = 10 ,padx = 10)\n",
    "\n",
    "        button1= tk.Button(self,text = \"Back to Start Page\",\n",
    "                           command= lambda: app.show_frame(StartPage))\n",
    "        button1.pack()\n",
    "        \n",
    "        button2= tk.Button(self,text = \"Visit Page 1\",\n",
    "                           command= lambda: app.show_frame(PageOne))\n",
    "        button2.pack()\n"
   ]
  },
  {
   "cell_type": "code",
   "execution_count": 16,
   "id": "b325e0e3",
   "metadata": {},
   "outputs": [],
   "source": [
    "testapp = myapp()\n",
    "testapp.mainloop()"
   ]
  }
 ],
 "metadata": {
  "kernelspec": {
   "display_name": "Python 3 (ipykernel)",
   "language": "python",
   "name": "python3"
  },
  "language_info": {
   "codemirror_mode": {
    "name": "ipython",
    "version": 3
   },
   "file_extension": ".py",
   "mimetype": "text/x-python",
   "name": "python",
   "nbconvert_exporter": "python",
   "pygments_lexer": "ipython3",
   "version": "3.8.11"
  }
 },
 "nbformat": 4,
 "nbformat_minor": 5
}
