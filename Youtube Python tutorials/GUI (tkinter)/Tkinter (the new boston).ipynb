{
 "cells": [
  {
   "cell_type": "code",
   "execution_count": 2,
   "id": "37cd7ad1",
   "metadata": {},
   "outputs": [],
   "source": [
    "\n",
    "import tkinter \n",
    "from tkinter import *"
   ]
  },
  {
   "cell_type": "markdown",
   "id": "2ec28d6f",
   "metadata": {},
   "source": [
    "# lesson 1 intro"
   ]
  },
  {
   "cell_type": "code",
   "execution_count": null,
   "id": "bcb7dbd8",
   "metadata": {},
   "outputs": [],
   "source": [
    "root=Tk()\n",
    "lable1 =Label(root, text=\"text for the window\" )\n",
    "lable1.pack()\n",
    "root.mainloop()"
   ]
  },
  {
   "cell_type": "markdown",
   "id": "a43e30b7",
   "metadata": {},
   "source": [
    "# lesson 2 layout organize using pack"
   ]
  },
  {
   "cell_type": "code",
   "execution_count": null,
   "id": "f1fa1ded",
   "metadata": {},
   "outputs": [],
   "source": [
    "root = Tk()\n",
    "#frame layout\n",
    "TopFrame = Frame(root)\n",
    "TopFrame.pack(side=TOP)\n",
    "BottomFrame = Frame(root)\n",
    "BottomFrame.pack(side=BOTTOM)\n",
    "# button widget\n",
    "Button1 = Button(TopFrame, text =\"Button numba 1\",fg = \"red\")\n",
    "Button2 = Button(TopFrame, text =\"Button numba 2\",fg = \"green\")\n",
    "Button3 = Button(TopFrame, text =\"Button numba 3\",fg = \"blue\")\n",
    "Button4 = Button(BottomFrame, text =\"Button numba 4\",fg = \"purple\")\n",
    "Button1.pack(side=LEFT)\n",
    "Button2.pack(side=LEFT)\n",
    "Button3.pack(side=LEFT)\n",
    "Button4.pack()\n",
    "root.mainloop()"
   ]
  },
  {
   "cell_type": "markdown",
   "id": "792f90bc",
   "metadata": {},
   "source": [
    "# lesson 3 fitting widget in layout"
   ]
  },
  {
   "cell_type": "code",
   "execution_count": null,
   "id": "2355b4cb",
   "metadata": {},
   "outputs": [],
   "source": [
    "root = Tk()\n",
    "\n",
    "one =     Label(root, text=\"One\", bg=\"red\", fg =\"white\")\n",
    "two =     Label(root, text=\"Two\", bg=\"green\", fg=\"black\")\n",
    "three =   Label(root, text=\"Three\", bg =\"blue\",fg=\"white\") \n",
    "\n",
    "one.pack()\n",
    "two.pack(fill=X)\n",
    "three.pack(side=LEFT,fill=Y)\n",
    "root.mainloop()"
   ]
  },
  {
   "cell_type": "markdown",
   "id": "13811208",
   "metadata": {},
   "source": [
    "# lesson 4 layout with grid"
   ]
  },
  {
   "cell_type": "code",
   "execution_count": null,
   "id": "69624a8c",
   "metadata": {},
   "outputs": [],
   "source": [
    "root = Tk()\n",
    "login = Label(root, text=\"Login name:\")\n",
    "password = Label(root, text=\"gimme the Password b***:\")\n",
    "login_entry = Entry(root)\n",
    "password_entry =Entry(root)\n",
    "\n",
    "login.grid(row=0,sticky=E)# North South East West allign\n",
    "password.grid(row=1,sticky=E)\n",
    "login_entry.grid(row=0,column=1)\n",
    "password_entry.grid(row=1,column=1)\n",
    "root.mainloop()"
   ]
  },
  {
   "cell_type": "markdown",
   "id": "50c0fac9",
   "metadata": {},
   "source": [
    "# lesson 5 more about grid"
   ]
  },
  {
   "cell_type": "code",
   "execution_count": null,
   "id": "5f054093",
   "metadata": {},
   "outputs": [],
   "source": [
    "root = Tk()\n",
    "login = Label(root, text=\"Login name:\")\n",
    "password = Label(root, text=\"gimme the Password b***:\")\n",
    "login_entry = Entry(root)\n",
    "password_entry =Entry(root)\n",
    "\n",
    "login.grid(row=0,sticky=E)# North South East West allign\n",
    "password.grid(row=1,sticky=E)\n",
    "login_entry.grid(row=0,column=1)\n",
    "password_entry.grid(row=1,column=1)\n",
    "\n",
    "#lesson 5\n",
    "\n",
    "c= Checkbutton(root, text=\"Keep me log in\")\n",
    "c.grid(columnspan=2)\n",
    "root.mainloop()"
   ]
  },
  {
   "cell_type": "markdown",
   "id": "9f5d5d12",
   "metadata": {},
   "source": [
    "# lesson 6 binding function to layout"
   ]
  },
  {
   "cell_type": "code",
   "execution_count": null,
   "id": "f47968eb",
   "metadata": {},
   "outputs": [],
   "source": [
    "#%connect_info\n",
    "# %qtconsole\n",
    "root =Tk()\n",
    "#using command \n",
    "def printname():\n",
    "    print(\"Hello there\")\n",
    "Button_1 = Button(root, text=\"print something magical\",command=printname)\n",
    "Button_1.pack()\n",
    "root.mainloop()"
   ]
  },
  {
   "cell_type": "code",
   "execution_count": 5,
   "id": "6b0bf11b",
   "metadata": {},
   "outputs": [
    {
     "name": "stdout",
     "output_type": "stream",
     "text": [
      "General Kenobi\n",
      "<ButtonPress event state=Mod1 num=1 x=49 y=16>\n",
      "General Kenobi\n",
      "<ButtonPress event state=Mod1 num=1 x=49 y=16>\n"
     ]
    }
   ],
   "source": [
    "#using event\n",
    "root = Tk()\n",
    "def printname(event):\n",
    "    print(\"General Kenobi\")\n",
    "    print(event)\n",
    "Button_1 = Button(root, text=\"Hello there\")\n",
    "Button_1.bind(\"<Button-1>\",printname)\n",
    "Button_1.pack()\n",
    "root.mainloop()"
   ]
  },
  {
   "cell_type": "markdown",
   "id": "a6fd10c6",
   "metadata": {},
   "source": [
    "# lesson 7 events"
   ]
  },
  {
   "cell_type": "code",
   "execution_count": 4,
   "id": "3df8949a",
   "metadata": {},
   "outputs": [
    {
     "name": "stdout",
     "output_type": "stream",
     "text": [
      "Left\n",
      "Middle\n",
      "Right\n"
     ]
    }
   ],
   "source": [
    "root = Tk()\n",
    "\n",
    "def leftClick(event):\n",
    "    print(\"Left\")\n",
    "\n",
    "def middleClick(event):\n",
    "    print(\"Middle\")\n",
    "    \n",
    "def rightClick(event):\n",
    "    print(\"Right\")\n",
    "\n",
    "    \n",
    "frame = Frame(root,width=300,height=250)\n",
    "frame.bind(\"<Button-1>\", leftClick)\n",
    "frame.bind(\"<Button-2>\", middleClick)\n",
    "frame.bind(\"<Button-3>\", rightClick)\n",
    "frame.pack()\n",
    "\n",
    "root.mainloop()"
   ]
  },
  {
   "cell_type": "markdown",
   "id": "23ab5573",
   "metadata": {},
   "source": [
    "# lesson 8 class\n",
    "\n"
   ]
  },
  {
   "cell_type": "code",
   "execution_count": 8,
   "id": "9ff5ecc3",
   "metadata": {},
   "outputs": [
    {
     "name": "stdout",
     "output_type": "stream",
     "text": [
      "it's something\n",
      "it's something\n",
      "it's something\n"
     ]
    }
   ],
   "source": [
    "class Uybutton:\n",
    "    def __init__(self,master):\n",
    "        frame = Frame(master)\n",
    "        frame.pack()\n",
    "        \n",
    "        self.Printbutton = Button(frame, text=\"magic button\",command=self.printmagic)\n",
    "        self.Quitbutton = Button(frame,text=\"Quit\",command=frame.quit)\n",
    "        self.Printbutton.pack(side=LEFT)\n",
    "        self.Quitbutton.pack(side=LEFT)\n",
    "    def printmagic(self):\n",
    "        print(\"it's something\")\n",
    "        \n",
    "root =Tk()\n",
    "b = Uybutton(root)\n",
    "root.mainloop()"
   ]
  },
  {
   "cell_type": "markdown",
   "id": "583ad080",
   "metadata": {},
   "source": [
    "# lesson 9 drop down menu \n"
   ]
  },
  {
   "cell_type": "code",
   "execution_count": 7,
   "id": "e8db9bc9",
   "metadata": {},
   "outputs": [
    {
     "name": "stdout",
     "output_type": "stream",
     "text": [
      "he is a good boi\n",
      "he is a good boi\n",
      "he is a good boi\n",
      "he is a good boi\n"
     ]
    }
   ],
   "source": [
    "def dindunuffin():\n",
    "    print(\"he is a good boi\")\n",
    "root = Tk()\n",
    "\n",
    "Mainmenu = Menu(root)\n",
    "root.config(menu=Mainmenu)\n",
    "Sub0menu = Menu(Mainmenu)\n",
    "Sub1menu = Menu(Mainmenu)\n",
    "\n",
    "Mainmenu.add_cascade(label=\"File\",menu=Sub0menu)\n",
    "Mainmenu.add_cascade(label=\"Edit\", menu=Sub1menu)\n",
    "\n",
    "Sub0menu.add_command(label=\"New Project\",command=dindunuffin)\n",
    "Sub0menu.add_separator()\n",
    "Sub0menu.add_command(label=\"New\",command=dindunuffin)\n",
    "Sub0menu.add_separator()\n",
    "Sub0menu.add_command(label=\"Exit\",command=dindunuffin)\n",
    "\n",
    "\n",
    "Sub1menu.add_command(label=\"Redo\",command=dindunuffin)\n",
    "\n",
    "\n",
    "root.mainloop()"
   ]
  },
  {
   "cell_type": "markdown",
   "id": "268bc4b0",
   "metadata": {},
   "source": [
    "# lesson 10 creat toolbar"
   ]
  },
  {
   "cell_type": "code",
   "execution_count": 9,
   "id": "9a115588",
   "metadata": {},
   "outputs": [
    {
     "name": "stdout",
     "output_type": "stream",
     "text": [
      "he is a good boi\n",
      "he is a good boi\n",
      "he is a good boi\n"
     ]
    }
   ],
   "source": [
    "def dindunuffin():\n",
    "    print(\"he is a good boi\")\n",
    "root = Tk()\n",
    "# lesson 9 drop down menu\n",
    "Mainmenu = Menu(root)\n",
    "root.config(menu=Mainmenu)\n",
    "Sub0menu = Menu(Mainmenu)\n",
    "Sub1menu = Menu(Mainmenu)\n",
    "\n",
    "Mainmenu.add_cascade(label=\"File\",menu=Sub0menu)\n",
    "Mainmenu.add_cascade(label=\"Edit\", menu=Sub1menu)\n",
    "\n",
    "Sub0menu.add_command(label=\"New Project\",command=dindunuffin)\n",
    "Sub0menu.add_separator()\n",
    "Sub0menu.add_command(label=\"New\",command=dindunuffin)\n",
    "Sub0menu.add_separator()\n",
    "Sub0menu.add_command(label=\"Exit\",command=dindunuffin)\n",
    "\n",
    "\n",
    "Sub1menu.add_command(label=\"Redo\",command=dindunuffin)\n",
    "\n",
    "# lesson 10 creat toolbar\n",
    "toolbar = Frame(root, bg=\"blue\")\n",
    "insertButt = Button(toolbar, text=\"Insert\" , command=dindunuffin)\n",
    "insertButt.pack(side=LEFT,padx=2,pady=2)\n",
    "printButt = Button(toolbar, text=\"Print\" , command=dindunuffin)\n",
    "printButt.pack(side=LEFT,padx=2,pady=2)\n",
    "\n",
    "toolbar.pack(side=TOP,fill=X)\n",
    "\n",
    "\n",
    "root.mainloop()"
   ]
  },
  {
   "cell_type": "markdown",
   "id": "5b329045",
   "metadata": {},
   "source": [
    "# lesson 11 Status Bar"
   ]
  },
  {
   "cell_type": "code",
   "execution_count": 11,
   "id": "e11617b4",
   "metadata": {},
   "outputs": [],
   "source": [
    "def dindunuffin():\n",
    "    print(\"he is a good boi\")\n",
    "root = Tk()\n",
    "# lesson 9 drop down menu\n",
    "Mainmenu = Menu(root)\n",
    "root.config(menu=Mainmenu)\n",
    "Sub0menu = Menu(Mainmenu)\n",
    "Sub1menu = Menu(Mainmenu)\n",
    "\n",
    "Mainmenu.add_cascade(label=\"File\",menu=Sub0menu)\n",
    "Mainmenu.add_cascade(label=\"Edit\", menu=Sub1menu)\n",
    "\n",
    "Sub0menu.add_command(label=\"New Project\",command=dindunuffin)\n",
    "Sub0menu.add_separator()\n",
    "Sub0menu.add_command(label=\"New\",command=dindunuffin)\n",
    "Sub0menu.add_separator()\n",
    "Sub0menu.add_command(label=\"Exit\",command=dindunuffin)\n",
    "\n",
    "\n",
    "Sub1menu.add_command(label=\"Redo\",command=dindunuffin)\n",
    "\n",
    "# lesson 10 creat toolbar\n",
    "toolbar = Frame(root, bg=\"blue\")\n",
    "insertButt = Button(toolbar, text=\"Insert\" , command=dindunuffin)\n",
    "insertButt.pack(side=LEFT,padx=2,pady=2)\n",
    "printButt = Button(toolbar, text=\"Print\" , command=dindunuffin)\n",
    "printButt.pack(side=LEFT,padx=2,pady=2)\n",
    "\n",
    "toolbar.pack(side=TOP,fill=X)\n",
    "\n",
    "# lesson 11 Status Bar\n",
    "\n",
    "status = Label(root,text=\"prepare for nuffin\",bd=1,relief=SUNKEN,anchor=W)\n",
    "status.pack(side=BOTTOM,fill=X)\n",
    "\n",
    "    \n",
    "\n",
    "root.mainloop()"
   ]
  },
  {
   "cell_type": "markdown",
   "id": "d670731b",
   "metadata": {},
   "source": [
    " # lesson 13 shapes and graphics"
   ]
  },
  {
   "cell_type": "code",
   "execution_count": 15,
   "id": "5f1d5d40",
   "metadata": {},
   "outputs": [],
   "source": [
    "root = Tk()\n",
    "Maincanvas= Canvas(root,width=200,height =200)\n",
    "Maincanvas.pack()\n",
    "Blackline = Maincanvas.create_line(0,0,200,150)\n",
    "Redline = Maincanvas.create_line(0,200,200,150,fill=\"red\")\n",
    "Maincanvas.delete(Redline)\n",
    "Greenrec = Maincanvas.create_rectangle(25,15,150,150,fill=\"green\")\n",
    "root.mainloop()"
   ]
  },
  {
   "cell_type": "markdown",
   "id": "55020fd0",
   "metadata": {},
   "source": [
    "# lesson 14 icons and images"
   ]
  },
  {
   "cell_type": "code",
   "execution_count": null,
   "id": "4757e0ad",
   "metadata": {},
   "outputs": [],
   "source": [
    "root =Tk()\n",
    "#photo = PhotoImage(filter\"location\")\n",
    "label = label(root, image=photo)\n",
    "label.pack()\n",
    "root.mainloop()"
   ]
  }
 ],
 "metadata": {
  "kernelspec": {
   "display_name": "Python 3 (ipykernel)",
   "language": "python",
   "name": "python3"
  },
  "language_info": {
   "codemirror_mode": {
    "name": "ipython",
    "version": 3
   },
   "file_extension": ".py",
   "mimetype": "text/x-python",
   "name": "python",
   "nbconvert_exporter": "python",
   "pygments_lexer": "ipython3",
   "version": "3.9.7"
  }
 },
 "nbformat": 4,
 "nbformat_minor": 5
}
